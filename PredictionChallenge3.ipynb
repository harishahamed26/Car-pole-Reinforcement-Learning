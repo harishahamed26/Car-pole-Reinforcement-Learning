{
  "cells": [
    {
      "cell_type": "markdown",
      "metadata": {
        "id": "view-in-github",
        "colab_type": "text"
      },
      "source": [
        "<a href=\"https://colab.research.google.com/github/harishahamed26/Car-pole-V0-Reinforcement-Learning/blob/main/PredictionChallenge3.ipynb\" target=\"_parent\"><img src=\"https://colab.research.google.com/assets/colab-badge.svg\" alt=\"Open In Colab\"/></a>"
      ]
    },
    {
      "cell_type": "markdown",
      "metadata": {
        "id": "VKK5DA390wRe"
      },
      "source": [
        "# Skeleton Code for Prediction Challenge 3\n",
        "Below is partial code to get you started on prediction challenge 3. You need to select values for the parameters that have question marks."
      ]
    },
    {
      "cell_type": "code",
      "execution_count": 1,
      "metadata": {
        "colab": {
          "base_uri": "https://localhost:8080/"
        },
        "id": "Gtr01pedYmmf",
        "outputId": "f7bfff6d-cfe3-4d85-d77a-a590f576da4c"
      },
      "outputs": [
        {
          "output_type": "stream",
          "name": "stdout",
          "text": [
            "Looking in indexes: https://pypi.org/simple, https://us-python.pkg.dev/colab-wheels/public/simple/\n",
            "Collecting keras-rl2\n",
            "  Downloading keras_rl2-1.0.5-py3-none-any.whl (52 kB)\n",
            "\u001b[2K     \u001b[90m━━━━━━━━━━━━━━━━━━━━━━━━━━━━━━━━━━━━━━━━\u001b[0m \u001b[32m52.1/52.1 KB\u001b[0m \u001b[31m2.8 MB/s\u001b[0m eta \u001b[36m0:00:00\u001b[0m\n",
            "\u001b[?25hRequirement already satisfied: tensorflow in /usr/local/lib/python3.9/dist-packages (from keras-rl2) (2.11.0)\n",
            "Requirement already satisfied: gast<=0.4.0,>=0.2.1 in /usr/local/lib/python3.9/dist-packages (from tensorflow->keras-rl2) (0.4.0)\n",
            "Requirement already satisfied: absl-py>=1.0.0 in /usr/local/lib/python3.9/dist-packages (from tensorflow->keras-rl2) (1.4.0)\n",
            "Requirement already satisfied: six>=1.12.0 in /usr/local/lib/python3.9/dist-packages (from tensorflow->keras-rl2) (1.15.0)\n",
            "Requirement already satisfied: tensorflow-io-gcs-filesystem>=0.23.1 in /usr/local/lib/python3.9/dist-packages (from tensorflow->keras-rl2) (0.31.0)\n",
            "Requirement already satisfied: typing-extensions>=3.6.6 in /usr/local/lib/python3.9/dist-packages (from tensorflow->keras-rl2) (4.5.0)\n",
            "Requirement already satisfied: tensorboard<2.12,>=2.11 in /usr/local/lib/python3.9/dist-packages (from tensorflow->keras-rl2) (2.11.2)\n",
            "Requirement already satisfied: libclang>=13.0.0 in /usr/local/lib/python3.9/dist-packages (from tensorflow->keras-rl2) (15.0.6.1)\n",
            "Requirement already satisfied: h5py>=2.9.0 in /usr/local/lib/python3.9/dist-packages (from tensorflow->keras-rl2) (3.8.0)\n",
            "Requirement already satisfied: numpy>=1.20 in /usr/local/lib/python3.9/dist-packages (from tensorflow->keras-rl2) (1.22.4)\n",
            "Requirement already satisfied: packaging in /usr/local/lib/python3.9/dist-packages (from tensorflow->keras-rl2) (23.0)\n",
            "Requirement already satisfied: tensorflow-estimator<2.12,>=2.11.0 in /usr/local/lib/python3.9/dist-packages (from tensorflow->keras-rl2) (2.11.0)\n",
            "Requirement already satisfied: keras<2.12,>=2.11.0 in /usr/local/lib/python3.9/dist-packages (from tensorflow->keras-rl2) (2.11.0)\n",
            "Requirement already satisfied: protobuf<3.20,>=3.9.2 in /usr/local/lib/python3.9/dist-packages (from tensorflow->keras-rl2) (3.19.6)\n",
            "Requirement already satisfied: setuptools in /usr/local/lib/python3.9/dist-packages (from tensorflow->keras-rl2) (63.4.3)\n",
            "Requirement already satisfied: google-pasta>=0.1.1 in /usr/local/lib/python3.9/dist-packages (from tensorflow->keras-rl2) (0.2.0)\n",
            "Requirement already satisfied: opt-einsum>=2.3.2 in /usr/local/lib/python3.9/dist-packages (from tensorflow->keras-rl2) (3.3.0)\n",
            "Requirement already satisfied: termcolor>=1.1.0 in /usr/local/lib/python3.9/dist-packages (from tensorflow->keras-rl2) (2.2.0)\n",
            "Requirement already satisfied: wrapt>=1.11.0 in /usr/local/lib/python3.9/dist-packages (from tensorflow->keras-rl2) (1.15.0)\n",
            "Requirement already satisfied: flatbuffers>=2.0 in /usr/local/lib/python3.9/dist-packages (from tensorflow->keras-rl2) (23.3.3)\n",
            "Requirement already satisfied: astunparse>=1.6.0 in /usr/local/lib/python3.9/dist-packages (from tensorflow->keras-rl2) (1.6.3)\n",
            "Requirement already satisfied: grpcio<2.0,>=1.24.3 in /usr/local/lib/python3.9/dist-packages (from tensorflow->keras-rl2) (1.51.3)\n",
            "Requirement already satisfied: wheel<1.0,>=0.23.0 in /usr/local/lib/python3.9/dist-packages (from astunparse>=1.6.0->tensorflow->keras-rl2) (0.40.0)\n",
            "Requirement already satisfied: google-auth<3,>=1.6.3 in /usr/local/lib/python3.9/dist-packages (from tensorboard<2.12,>=2.11->tensorflow->keras-rl2) (2.16.2)\n",
            "Requirement already satisfied: google-auth-oauthlib<0.5,>=0.4.1 in /usr/local/lib/python3.9/dist-packages (from tensorboard<2.12,>=2.11->tensorflow->keras-rl2) (0.4.6)\n",
            "Requirement already satisfied: tensorboard-plugin-wit>=1.6.0 in /usr/local/lib/python3.9/dist-packages (from tensorboard<2.12,>=2.11->tensorflow->keras-rl2) (1.8.1)\n",
            "Requirement already satisfied: werkzeug>=1.0.1 in /usr/local/lib/python3.9/dist-packages (from tensorboard<2.12,>=2.11->tensorflow->keras-rl2) (2.2.3)\n",
            "Requirement already satisfied: markdown>=2.6.8 in /usr/local/lib/python3.9/dist-packages (from tensorboard<2.12,>=2.11->tensorflow->keras-rl2) (3.4.1)\n",
            "Requirement already satisfied: requests<3,>=2.21.0 in /usr/local/lib/python3.9/dist-packages (from tensorboard<2.12,>=2.11->tensorflow->keras-rl2) (2.27.1)\n",
            "Requirement already satisfied: tensorboard-data-server<0.7.0,>=0.6.0 in /usr/local/lib/python3.9/dist-packages (from tensorboard<2.12,>=2.11->tensorflow->keras-rl2) (0.6.1)\n",
            "Requirement already satisfied: pyasn1-modules>=0.2.1 in /usr/local/lib/python3.9/dist-packages (from google-auth<3,>=1.6.3->tensorboard<2.12,>=2.11->tensorflow->keras-rl2) (0.2.8)\n",
            "Requirement already satisfied: rsa<5,>=3.1.4 in /usr/local/lib/python3.9/dist-packages (from google-auth<3,>=1.6.3->tensorboard<2.12,>=2.11->tensorflow->keras-rl2) (4.9)\n",
            "Requirement already satisfied: cachetools<6.0,>=2.0.0 in /usr/local/lib/python3.9/dist-packages (from google-auth<3,>=1.6.3->tensorboard<2.12,>=2.11->tensorflow->keras-rl2) (5.3.0)\n",
            "Requirement already satisfied: requests-oauthlib>=0.7.0 in /usr/local/lib/python3.9/dist-packages (from google-auth-oauthlib<0.5,>=0.4.1->tensorboard<2.12,>=2.11->tensorflow->keras-rl2) (1.3.1)\n",
            "Requirement already satisfied: importlib-metadata>=4.4 in /usr/local/lib/python3.9/dist-packages (from markdown>=2.6.8->tensorboard<2.12,>=2.11->tensorflow->keras-rl2) (6.0.0)\n",
            "Requirement already satisfied: charset-normalizer~=2.0.0 in /usr/local/lib/python3.9/dist-packages (from requests<3,>=2.21.0->tensorboard<2.12,>=2.11->tensorflow->keras-rl2) (2.0.12)\n",
            "Requirement already satisfied: urllib3<1.27,>=1.21.1 in /usr/local/lib/python3.9/dist-packages (from requests<3,>=2.21.0->tensorboard<2.12,>=2.11->tensorflow->keras-rl2) (1.26.15)\n",
            "Requirement already satisfied: certifi>=2017.4.17 in /usr/local/lib/python3.9/dist-packages (from requests<3,>=2.21.0->tensorboard<2.12,>=2.11->tensorflow->keras-rl2) (2022.12.7)\n",
            "Requirement already satisfied: idna<4,>=2.5 in /usr/local/lib/python3.9/dist-packages (from requests<3,>=2.21.0->tensorboard<2.12,>=2.11->tensorflow->keras-rl2) (3.4)\n",
            "Requirement already satisfied: MarkupSafe>=2.1.1 in /usr/local/lib/python3.9/dist-packages (from werkzeug>=1.0.1->tensorboard<2.12,>=2.11->tensorflow->keras-rl2) (2.1.2)\n",
            "Requirement already satisfied: zipp>=0.5 in /usr/local/lib/python3.9/dist-packages (from importlib-metadata>=4.4->markdown>=2.6.8->tensorboard<2.12,>=2.11->tensorflow->keras-rl2) (3.15.0)\n",
            "Requirement already satisfied: pyasn1<0.5.0,>=0.4.6 in /usr/local/lib/python3.9/dist-packages (from pyasn1-modules>=0.2.1->google-auth<3,>=1.6.3->tensorboard<2.12,>=2.11->tensorflow->keras-rl2) (0.4.8)\n",
            "Requirement already satisfied: oauthlib>=3.0.0 in /usr/local/lib/python3.9/dist-packages (from requests-oauthlib>=0.7.0->google-auth-oauthlib<0.5,>=0.4.1->tensorboard<2.12,>=2.11->tensorflow->keras-rl2) (3.2.2)\n",
            "Installing collected packages: keras-rl2\n",
            "Successfully installed keras-rl2-1.0.5\n"
          ]
        }
      ],
      "source": [
        "!pip install keras-rl2"
      ]
    },
    {
      "cell_type": "code",
      "execution_count": 2,
      "metadata": {
        "colab": {
          "base_uri": "https://localhost:8080/"
        },
        "id": "qwlNl77gYky4",
        "outputId": "66a2df81-a86b-42b8-b243-42a803b9e548"
      },
      "outputs": [
        {
          "output_type": "stream",
          "name": "stdout",
          "text": [
            "Looking in indexes: https://pypi.org/simple, https://us-python.pkg.dev/colab-wheels/public/simple/\n",
            "Requirement already satisfied: gym in /usr/local/lib/python3.9/dist-packages (0.25.2)\n",
            "Requirement already satisfied: gym-notices>=0.0.4 in /usr/local/lib/python3.9/dist-packages (from gym) (0.0.8)\n",
            "Requirement already satisfied: cloudpickle>=1.2.0 in /usr/local/lib/python3.9/dist-packages (from gym) (2.2.1)\n",
            "Requirement already satisfied: importlib-metadata>=4.8.0 in /usr/local/lib/python3.9/dist-packages (from gym) (6.0.0)\n",
            "Requirement already satisfied: numpy>=1.18.0 in /usr/local/lib/python3.9/dist-packages (from gym) (1.22.4)\n",
            "Requirement already satisfied: zipp>=0.5 in /usr/local/lib/python3.9/dist-packages (from importlib-metadata>=4.8.0->gym) (3.15.0)\n"
          ]
        }
      ],
      "source": [
        "!pip install gym"
      ]
    },
    {
      "cell_type": "code",
      "execution_count": 25,
      "metadata": {
        "id": "Aw0JkEYOYhHL"
      },
      "outputs": [],
      "source": [
        "\n",
        "# load the gym module\n",
        "import gym\n",
        "import matplotlib.pyplot as plt\n",
        "# import the usual Keras modules for creating deep neural networks\n",
        "from keras import Sequential\n",
        "from keras.layers import Input, Flatten, Dense\n",
        "from keras.optimizers import Adam\n",
        "import numpy as np\n",
        "import random\n",
        "\n",
        "ENV_NAME = 'CartPole-v0'\n",
        "env = gym.make(ENV_NAME)\n",
        "env.seed(100)\n",
        "np.random.seed(100)\n",
        "random.seed(100)\n",
        "\n",
        "import rl\n",
        "from rl.memory import SequentialMemory  # import the exerience replay buffer module\n",
        "from rl.policy import LinearAnnealedPolicy, EpsGreedyQPolicy # import the policy\n",
        "from rl.agents.dqn import DQNAgent   \n"
      ]
    },
    {
      "cell_type": "code",
      "execution_count": 34,
      "metadata": {
        "colab": {
          "base_uri": "https://localhost:8080/"
        },
        "id": "CeM5rpqobHPM",
        "outputId": "cd764af9-c756-450b-8c72-82a38d3542fe"
      },
      "outputs": [
        {
          "output_type": "stream",
          "name": "stdout",
          "text": [
            "Model: \"sequential_4\"\n",
            "_________________________________________________________________\n",
            " Layer (type)                Output Shape              Param #   \n",
            "=================================================================\n",
            " flatten_4 (Flatten)         (None, 4)                 0         \n",
            "                                                                 \n",
            " dense_15 (Dense)            (None, 16)                80        \n",
            "                                                                 \n",
            " dense_16 (Dense)            (None, 32)                544       \n",
            "                                                                 \n",
            " flatten_5 (Flatten)         (None, 32)                0         \n",
            "                                                                 \n",
            " dense_17 (Dense)            (None, 64)                2112      \n",
            "                                                                 \n",
            " dense_18 (Dense)            (None, 2)                 130       \n",
            "                                                                 \n",
            "=================================================================\n",
            "Total params: 2,866\n",
            "Trainable params: 2,866\n",
            "Non-trainable params: 0\n",
            "_________________________________________________________________\n",
            "None\n"
          ]
        }
      ],
      "source": [
        "model = Sequential()\n",
        "model.add(Input(shape=(1,env.observation_space.shape[0])))  # The input is 1 observation vector, and the number of observations in that vector \n",
        "model.add(Flatten())\n",
        "# add extra layers here\n",
        "\n",
        "model.add(Dense(16, activation='relu'))\n",
        "model.add(Dense(32, activation='relu'))\n",
        "model.add(Flatten())\n",
        "model.add(Dense(64, activation='relu'))\n",
        "\n",
        "\n",
        "\n",
        "\n",
        "\n",
        "model.add(Dense(env.action_space.n, activation='linear'))   # the output is the number of actions in the action space\n",
        "print(model.summary())"
      ]
    },
    {
      "cell_type": "code",
      "execution_count": 42,
      "metadata": {
        "colab": {
          "base_uri": "https://localhost:8080/",
          "height": 1000
        },
        "id": "R8ZiiRbxlH2D",
        "outputId": "d4610d5e-51eb-4349-bc4c-fa69ad902f2b"
      },
      "outputs": [
        {
          "output_type": "stream",
          "name": "stdout",
          "text": [
            "Training for 5000 steps ...\n"
          ]
        },
        {
          "output_type": "stream",
          "name": "stderr",
          "text": [
            "/usr/local/lib/python3.9/dist-packages/keras/engine/training_v1.py:2357: UserWarning: `Model.state_updates` will be removed in a future version. This property should not be used in TensorFlow 2.0, as `updates` are applied automatically.\n",
            "  updates=self.state_updates,\n"
          ]
        },
        {
          "output_type": "stream",
          "name": "stdout",
          "text": [
            "   13/5000: episode: 1, duration: 1.580s, episode steps:  13, steps per second:   8, episode reward: 13.000, mean reward:  1.000 [ 1.000,  1.000], mean action: 0.615 [0.000, 1.000],  loss: --, mae: --, mean_q: --, mean_eps: --\n",
            "   29/5000: episode: 2, duration: 0.014s, episode steps:  16, steps per second: 1131, episode reward: 16.000, mean reward:  1.000 [ 1.000,  1.000], mean action: 0.625 [0.000, 1.000],  loss: --, mae: --, mean_q: --, mean_eps: --\n",
            "   44/5000: episode: 3, duration: 0.013s, episode steps:  15, steps per second: 1120, episode reward: 15.000, mean reward:  1.000 [ 1.000,  1.000], mean action: 0.600 [0.000, 1.000],  loss: --, mae: --, mean_q: --, mean_eps: --\n",
            "   71/5000: episode: 4, duration: 0.024s, episode steps:  27, steps per second: 1105, episode reward: 27.000, mean reward:  1.000 [ 1.000,  1.000], mean action: 0.593 [0.000, 1.000],  loss: --, mae: --, mean_q: --, mean_eps: --\n",
            "   99/5000: episode: 5, duration: 0.023s, episode steps:  28, steps per second: 1221, episode reward: 28.000, mean reward:  1.000 [ 1.000,  1.000], mean action: 0.393 [0.000, 1.000],  loss: --, mae: --, mean_q: --, mean_eps: --\n"
          ]
        },
        {
          "output_type": "stream",
          "name": "stderr",
          "text": [
            "/usr/local/lib/python3.9/dist-packages/keras/engine/training_v1.py:2357: UserWarning: `Model.state_updates` will be removed in a future version. This property should not be used in TensorFlow 2.0, as `updates` are applied automatically.\n",
            "  updates=self.state_updates,\n"
          ]
        },
        {
          "output_type": "stream",
          "name": "stdout",
          "text": [
            "  145/5000: episode: 6, duration: 4.804s, episode steps:  46, steps per second:  10, episode reward: 46.000, mean reward:  1.000 [ 1.000,  1.000], mean action: 0.543 [0.000, 1.000],  loss: 0.371021, mae: 3.784822, mean_q: 7.090707, mean_eps: 0.977950\n",
            "  204/5000: episode: 7, duration: 0.524s, episode steps:  59, steps per second: 113, episode reward: 59.000, mean reward:  1.000 [ 1.000,  1.000], mean action: 0.525 [0.000, 1.000],  loss: 0.192075, mae: 3.814668, mean_q: 7.475561, mean_eps: 0.968680\n",
            "  219/5000: episode: 8, duration: 0.147s, episode steps:  15, steps per second: 102, episode reward: 15.000, mean reward:  1.000 [ 1.000,  1.000], mean action: 0.533 [0.000, 1.000],  loss: 0.229321, mae: 3.823148, mean_q: 7.498329, mean_eps: 0.962020\n",
            "  247/5000: episode: 9, duration: 0.282s, episode steps:  28, steps per second:  99, episode reward: 28.000, mean reward:  1.000 [ 1.000,  1.000], mean action: 0.500 [0.000, 1.000],  loss: 0.199853, mae: 3.799333, mean_q: 7.495347, mean_eps: 0.958150\n",
            "  267/5000: episode: 10, duration: 0.188s, episode steps:  20, steps per second: 106, episode reward: 20.000, mean reward:  1.000 [ 1.000,  1.000], mean action: 0.400 [0.000, 1.000],  loss: 0.327400, mae: 3.774560, mean_q: 7.349484, mean_eps: 0.953830\n",
            "  280/5000: episode: 11, duration: 0.243s, episode steps:  13, steps per second:  54, episode reward: 13.000, mean reward:  1.000 [ 1.000,  1.000], mean action: 0.385 [0.000, 1.000],  loss: 0.200797, mae: 3.798563, mean_q: 7.475924, mean_eps: 0.950860\n",
            "  296/5000: episode: 12, duration: 0.226s, episode steps:  16, steps per second:  71, episode reward: 16.000, mean reward:  1.000 [ 1.000,  1.000], mean action: 0.500 [0.000, 1.000],  loss: 0.238293, mae: 3.785304, mean_q: 7.455276, mean_eps: 0.948250\n",
            "  346/5000: episode: 13, duration: 0.572s, episode steps:  50, steps per second:  87, episode reward: 50.000, mean reward:  1.000 [ 1.000,  1.000], mean action: 0.600 [0.000, 1.000],  loss: 0.285361, mae: 3.777647, mean_q: 7.460880, mean_eps: 0.942310\n",
            "  364/5000: episode: 14, duration: 0.278s, episode steps:  18, steps per second:  65, episode reward: 18.000, mean reward:  1.000 [ 1.000,  1.000], mean action: 0.333 [0.000, 1.000],  loss: 0.314535, mae: 3.813442, mean_q: 7.515508, mean_eps: 0.936190\n",
            "  374/5000: episode: 15, duration: 0.163s, episode steps:  10, steps per second:  61, episode reward: 10.000, mean reward:  1.000 [ 1.000,  1.000], mean action: 0.300 [0.000, 1.000],  loss: 0.336440, mae: 3.767912, mean_q: 7.386385, mean_eps: 0.933670\n",
            "  417/5000: episode: 16, duration: 0.492s, episode steps:  43, steps per second:  87, episode reward: 43.000, mean reward:  1.000 [ 1.000,  1.000], mean action: 0.558 [0.000, 1.000],  loss: 0.264374, mae: 3.779685, mean_q: 7.472957, mean_eps: 0.928900\n",
            "  432/5000: episode: 17, duration: 0.141s, episode steps:  15, steps per second: 106, episode reward: 15.000, mean reward:  1.000 [ 1.000,  1.000], mean action: 0.467 [0.000, 1.000],  loss: 0.316029, mae: 3.753006, mean_q: 7.354361, mean_eps: 0.923680\n",
            "  468/5000: episode: 18, duration: 0.370s, episode steps:  36, steps per second:  97, episode reward: 36.000, mean reward:  1.000 [ 1.000,  1.000], mean action: 0.500 [0.000, 1.000],  loss: 0.263260, mae: 3.794700, mean_q: 7.490651, mean_eps: 0.919090\n",
            "  536/5000: episode: 19, duration: 0.667s, episode steps:  68, steps per second: 102, episode reward: 68.000, mean reward:  1.000 [ 1.000,  1.000], mean action: 0.471 [0.000, 1.000],  loss: 0.252169, mae: 3.798929, mean_q: 7.513312, mean_eps: 0.909730\n",
            "  547/5000: episode: 20, duration: 0.095s, episode steps:  11, steps per second: 116, episode reward: 11.000, mean reward:  1.000 [ 1.000,  1.000], mean action: 0.273 [0.000, 1.000],  loss: 0.308157, mae: 3.822976, mean_q: 7.532220, mean_eps: 0.902620\n",
            "  574/5000: episode: 21, duration: 0.288s, episode steps:  27, steps per second:  94, episode reward: 27.000, mean reward:  1.000 [ 1.000,  1.000], mean action: 0.556 [0.000, 1.000],  loss: 0.253193, mae: 3.749690, mean_q: 7.408497, mean_eps: 0.899200\n",
            "  607/5000: episode: 22, duration: 0.277s, episode steps:  33, steps per second: 119, episode reward: 33.000, mean reward:  1.000 [ 1.000,  1.000], mean action: 0.424 [0.000, 1.000],  loss: 0.232719, mae: 3.782712, mean_q: 7.483372, mean_eps: 0.893800\n",
            "  632/5000: episode: 23, duration: 0.191s, episode steps:  25, steps per second: 131, episode reward: 25.000, mean reward:  1.000 [ 1.000,  1.000], mean action: 0.480 [0.000, 1.000],  loss: 0.244246, mae: 3.830677, mean_q: 7.568547, mean_eps: 0.888580\n",
            "  661/5000: episode: 24, duration: 0.246s, episode steps:  29, steps per second: 118, episode reward: 29.000, mean reward:  1.000 [ 1.000,  1.000], mean action: 0.414 [0.000, 1.000],  loss: 0.347102, mae: 3.801251, mean_q: 7.489615, mean_eps: 0.883720\n",
            "  675/5000: episode: 25, duration: 0.113s, episode steps:  14, steps per second: 124, episode reward: 14.000, mean reward:  1.000 [ 1.000,  1.000], mean action: 0.429 [0.000, 1.000],  loss: 0.258061, mae: 3.830618, mean_q: 7.564085, mean_eps: 0.879850\n",
            "  698/5000: episode: 26, duration: 0.223s, episode steps:  23, steps per second: 103, episode reward: 23.000, mean reward:  1.000 [ 1.000,  1.000], mean action: 0.652 [0.000, 1.000],  loss: 0.250676, mae: 3.801196, mean_q: 7.533660, mean_eps: 0.876520\n",
            "  783/5000: episode: 27, duration: 0.754s, episode steps:  85, steps per second: 113, episode reward: 85.000, mean reward:  1.000 [ 1.000,  1.000], mean action: 0.471 [0.000, 1.000],  loss: 0.224310, mae: 3.838211, mean_q: 7.607628, mean_eps: 0.866800\n",
            "  805/5000: episode: 28, duration: 0.211s, episode steps:  22, steps per second: 104, episode reward: 22.000, mean reward:  1.000 [ 1.000,  1.000], mean action: 0.455 [0.000, 1.000],  loss: 0.359689, mae: 3.919147, mean_q: 7.718323, mean_eps: 0.857170\n",
            "  826/5000: episode: 29, duration: 0.230s, episode steps:  21, steps per second:  91, episode reward: 21.000, mean reward:  1.000 [ 1.000,  1.000], mean action: 0.429 [0.000, 1.000],  loss: 0.217951, mae: 3.901967, mean_q: 7.744573, mean_eps: 0.853300\n",
            "  842/5000: episode: 30, duration: 0.171s, episode steps:  16, steps per second:  94, episode reward: 16.000, mean reward:  1.000 [ 1.000,  1.000], mean action: 0.438 [0.000, 1.000],  loss: 0.204086, mae: 3.901339, mean_q: 7.773603, mean_eps: 0.849970\n",
            "  902/5000: episode: 31, duration: 0.561s, episode steps:  60, steps per second: 107, episode reward: 60.000, mean reward:  1.000 [ 1.000,  1.000], mean action: 0.467 [0.000, 1.000],  loss: 0.335695, mae: 3.959757, mean_q: 7.828230, mean_eps: 0.843130\n",
            "  943/5000: episode: 32, duration: 0.351s, episode steps:  41, steps per second: 117, episode reward: 41.000, mean reward:  1.000 [ 1.000,  1.000], mean action: 0.537 [0.000, 1.000],  loss: 0.285840, mae: 3.953450, mean_q: 7.838206, mean_eps: 0.834040\n",
            "  973/5000: episode: 33, duration: 0.244s, episode steps:  30, steps per second: 123, episode reward: 30.000, mean reward:  1.000 [ 1.000,  1.000], mean action: 0.433 [0.000, 1.000],  loss: 0.205796, mae: 3.954664, mean_q: 7.902413, mean_eps: 0.827650\n",
            "  995/5000: episode: 34, duration: 0.185s, episode steps:  22, steps per second: 119, episode reward: 22.000, mean reward:  1.000 [ 1.000,  1.000], mean action: 0.409 [0.000, 1.000],  loss: 0.202441, mae: 3.962528, mean_q: 7.895336, mean_eps: 0.822970\n",
            " 1086/5000: episode: 35, duration: 0.869s, episode steps:  91, steps per second: 105, episode reward: 91.000, mean reward:  1.000 [ 1.000,  1.000], mean action: 0.462 [0.000, 1.000],  loss: 0.204658, mae: 3.958704, mean_q: 7.870807, mean_eps: 0.812800\n",
            " 1101/5000: episode: 36, duration: 0.135s, episode steps:  15, steps per second: 111, episode reward: 15.000, mean reward:  1.000 [ 1.000,  1.000], mean action: 0.333 [0.000, 1.000],  loss: 0.349559, mae: 3.941648, mean_q: 7.812518, mean_eps: 0.803260\n",
            " 1146/5000: episode: 37, duration: 0.436s, episode steps:  45, steps per second: 103, episode reward: 45.000, mean reward:  1.000 [ 1.000,  1.000], mean action: 0.467 [0.000, 1.000],  loss: 0.256965, mae: 3.928245, mean_q: 7.801773, mean_eps: 0.797860\n",
            " 1179/5000: episode: 38, duration: 0.308s, episode steps:  33, steps per second: 107, episode reward: 33.000, mean reward:  1.000 [ 1.000,  1.000], mean action: 0.515 [0.000, 1.000],  loss: 0.187026, mae: 3.980610, mean_q: 7.957537, mean_eps: 0.790840\n",
            " 1209/5000: episode: 39, duration: 0.281s, episode steps:  30, steps per second: 107, episode reward: 30.000, mean reward:  1.000 [ 1.000,  1.000], mean action: 0.567 [0.000, 1.000],  loss: 0.214141, mae: 3.933533, mean_q: 7.845765, mean_eps: 0.785170\n",
            " 1230/5000: episode: 40, duration: 0.285s, episode steps:  21, steps per second:  74, episode reward: 21.000, mean reward:  1.000 [ 1.000,  1.000], mean action: 0.476 [0.000, 1.000],  loss: 0.213151, mae: 3.952781, mean_q: 7.898219, mean_eps: 0.780580\n",
            " 1240/5000: episode: 41, duration: 0.088s, episode steps:  10, steps per second: 113, episode reward: 10.000, mean reward:  1.000 [ 1.000,  1.000], mean action: 0.800 [0.000, 1.000],  loss: 0.121627, mae: 3.913180, mean_q: 7.836929, mean_eps: 0.777790\n",
            " 1258/5000: episode: 42, duration: 0.171s, episode steps:  18, steps per second: 105, episode reward: 18.000, mean reward:  1.000 [ 1.000,  1.000], mean action: 0.611 [0.000, 1.000],  loss: 0.267863, mae: 3.943672, mean_q: 7.804962, mean_eps: 0.775270\n",
            " 1304/5000: episode: 43, duration: 0.416s, episode steps:  46, steps per second: 111, episode reward: 46.000, mean reward:  1.000 [ 1.000,  1.000], mean action: 0.587 [0.000, 1.000],  loss: 0.270778, mae: 3.939213, mean_q: 7.824488, mean_eps: 0.769510\n",
            " 1335/5000: episode: 44, duration: 0.257s, episode steps:  31, steps per second: 121, episode reward: 31.000, mean reward:  1.000 [ 1.000,  1.000], mean action: 0.516 [0.000, 1.000],  loss: 0.230936, mae: 3.967648, mean_q: 7.927317, mean_eps: 0.762580\n",
            " 1378/5000: episode: 45, duration: 0.458s, episode steps:  43, steps per second:  94, episode reward: 43.000, mean reward:  1.000 [ 1.000,  1.000], mean action: 0.465 [0.000, 1.000],  loss: 0.300100, mae: 3.925597, mean_q: 7.782186, mean_eps: 0.755920\n",
            " 1389/5000: episode: 46, duration: 0.115s, episode steps:  11, steps per second:  96, episode reward: 11.000, mean reward:  1.000 [ 1.000,  1.000], mean action: 0.273 [0.000, 1.000],  loss: 0.442780, mae: 4.022752, mean_q: 7.988001, mean_eps: 0.751060\n",
            " 1434/5000: episode: 47, duration: 0.375s, episode steps:  45, steps per second: 120, episode reward: 45.000, mean reward:  1.000 [ 1.000,  1.000], mean action: 0.600 [0.000, 1.000],  loss: 0.296514, mae: 3.902883, mean_q: 7.734315, mean_eps: 0.746020\n",
            " 1488/5000: episode: 48, duration: 0.662s, episode steps:  54, steps per second:  82, episode reward: 54.000, mean reward:  1.000 [ 1.000,  1.000], mean action: 0.593 [0.000, 1.000],  loss: 0.355779, mae: 3.954057, mean_q: 7.876402, mean_eps: 0.737110\n",
            " 1504/5000: episode: 49, duration: 0.170s, episode steps:  16, steps per second:  94, episode reward: 16.000, mean reward:  1.000 [ 1.000,  1.000], mean action: 0.375 [0.000, 1.000],  loss: 0.103339, mae: 3.912555, mean_q: 7.854497, mean_eps: 0.730810\n",
            " 1535/5000: episode: 50, duration: 0.430s, episode steps:  31, steps per second:  72, episode reward: 31.000, mean reward:  1.000 [ 1.000,  1.000], mean action: 0.516 [0.000, 1.000],  loss: 0.157637, mae: 3.941789, mean_q: 7.901387, mean_eps: 0.726580\n",
            " 1643/5000: episode: 51, duration: 1.234s, episode steps: 108, steps per second:  88, episode reward: 108.000, mean reward:  1.000 [ 1.000,  1.000], mean action: 0.491 [0.000, 1.000],  loss: 0.232346, mae: 3.963222, mean_q: 7.911655, mean_eps: 0.714070\n",
            " 1680/5000: episode: 52, duration: 0.367s, episode steps:  37, steps per second: 101, episode reward: 37.000, mean reward:  1.000 [ 1.000,  1.000], mean action: 0.568 [0.000, 1.000],  loss: 0.242011, mae: 3.984754, mean_q: 8.000231, mean_eps: 0.701020\n",
            " 1732/5000: episode: 53, duration: 0.579s, episode steps:  52, steps per second:  90, episode reward: 52.000, mean reward:  1.000 [ 1.000,  1.000], mean action: 0.442 [0.000, 1.000],  loss: 0.176076, mae: 3.945085, mean_q: 7.912846, mean_eps: 0.693010\n",
            " 1781/5000: episode: 54, duration: 0.449s, episode steps:  49, steps per second: 109, episode reward: 49.000, mean reward:  1.000 [ 1.000,  1.000], mean action: 0.571 [0.000, 1.000],  loss: 0.211731, mae: 3.971252, mean_q: 7.953697, mean_eps: 0.683920\n",
            " 1843/5000: episode: 55, duration: 0.597s, episode steps:  62, steps per second: 104, episode reward: 62.000, mean reward:  1.000 [ 1.000,  1.000], mean action: 0.468 [0.000, 1.000],  loss: 0.232018, mae: 3.970231, mean_q: 7.956242, mean_eps: 0.673930\n",
            " 1886/5000: episode: 56, duration: 0.383s, episode steps:  43, steps per second: 112, episode reward: 43.000, mean reward:  1.000 [ 1.000,  1.000], mean action: 0.558 [0.000, 1.000],  loss: 0.167956, mae: 3.958909, mean_q: 7.969792, mean_eps: 0.664480\n",
            " 1904/5000: episode: 57, duration: 0.165s, episode steps:  18, steps per second: 109, episode reward: 18.000, mean reward:  1.000 [ 1.000,  1.000], mean action: 0.389 [0.000, 1.000],  loss: 0.156636, mae: 3.985561, mean_q: 7.988796, mean_eps: 0.658990\n",
            " 1977/5000: episode: 58, duration: 0.686s, episode steps:  73, steps per second: 106, episode reward: 73.000, mean reward:  1.000 [ 1.000,  1.000], mean action: 0.521 [0.000, 1.000],  loss: 0.125809, mae: 3.967255, mean_q: 7.991347, mean_eps: 0.650800\n",
            " 2113/5000: episode: 59, duration: 1.184s, episode steps: 136, steps per second: 115, episode reward: 136.000, mean reward:  1.000 [ 1.000,  1.000], mean action: 0.515 [0.000, 1.000],  loss: 0.235436, mae: 3.962137, mean_q: 7.936942, mean_eps: 0.631990\n",
            " 2139/5000: episode: 60, duration: 0.232s, episode steps:  26, steps per second: 112, episode reward: 26.000, mean reward:  1.000 [ 1.000,  1.000], mean action: 0.462 [0.000, 1.000],  loss: 0.183471, mae: 4.016392, mean_q: 8.090286, mean_eps: 0.617410\n",
            " 2230/5000: episode: 61, duration: 0.779s, episode steps:  91, steps per second: 117, episode reward: 91.000, mean reward:  1.000 [ 1.000,  1.000], mean action: 0.484 [0.000, 1.000],  loss: 0.161655, mae: 4.011197, mean_q: 8.065075, mean_eps: 0.606880\n",
            " 2391/5000: episode: 62, duration: 1.381s, episode steps: 161, steps per second: 117, episode reward: 161.000, mean reward:  1.000 [ 1.000,  1.000], mean action: 0.503 [0.000, 1.000],  loss: 0.163177, mae: 4.003329, mean_q: 8.065685, mean_eps: 0.584200\n",
            " 2419/5000: episode: 63, duration: 0.268s, episode steps:  28, steps per second: 104, episode reward: 28.000, mean reward:  1.000 [ 1.000,  1.000], mean action: 0.464 [0.000, 1.000],  loss: 0.132438, mae: 4.031787, mean_q: 8.119389, mean_eps: 0.567190\n",
            " 2551/5000: episode: 64, duration: 1.336s, episode steps: 132, steps per second:  99, episode reward: 132.000, mean reward:  1.000 [ 1.000,  1.000], mean action: 0.523 [0.000, 1.000],  loss: 0.197718, mae: 4.015012, mean_q: 8.059543, mean_eps: 0.552790\n",
            " 2686/5000: episode: 65, duration: 1.319s, episode steps: 135, steps per second: 102, episode reward: 135.000, mean reward:  1.000 [ 1.000,  1.000], mean action: 0.519 [0.000, 1.000],  loss: 0.178151, mae: 4.038206, mean_q: 8.119916, mean_eps: 0.528760\n",
            " 2886/5000: episode: 66, duration: 2.048s, episode steps: 200, steps per second:  98, episode reward: 200.000, mean reward:  1.000 [ 1.000,  1.000], mean action: 0.510 [0.000, 1.000],  loss: 0.148670, mae: 4.097411, mean_q: 8.240917, mean_eps: 0.498610\n",
            " 3001/5000: episode: 67, duration: 0.949s, episode steps: 115, steps per second: 121, episode reward: 115.000, mean reward:  1.000 [ 1.000,  1.000], mean action: 0.504 [0.000, 1.000],  loss: 0.140000, mae: 4.100913, mean_q: 8.250112, mean_eps: 0.470260\n",
            " 3150/5000: episode: 68, duration: 1.268s, episode steps: 149, steps per second: 118, episode reward: 149.000, mean reward:  1.000 [ 1.000,  1.000], mean action: 0.517 [0.000, 1.000],  loss: 0.126280, mae: 4.125895, mean_q: 8.322769, mean_eps: 0.446500\n",
            " 3305/5000: episode: 69, duration: 1.279s, episode steps: 155, steps per second: 121, episode reward: 155.000, mean reward:  1.000 [ 1.000,  1.000], mean action: 0.516 [0.000, 1.000],  loss: 0.177939, mae: 4.108236, mean_q: 8.246236, mean_eps: 0.419140\n",
            " 3450/5000: episode: 70, duration: 1.255s, episode steps: 145, steps per second: 116, episode reward: 145.000, mean reward:  1.000 [ 1.000,  1.000], mean action: 0.531 [0.000, 1.000],  loss: 0.171238, mae: 4.122840, mean_q: 8.279017, mean_eps: 0.392140\n",
            " 3575/5000: episode: 71, duration: 1.231s, episode steps: 125, steps per second: 102, episode reward: 125.000, mean reward:  1.000 [ 1.000,  1.000], mean action: 0.544 [0.000, 1.000],  loss: 0.152249, mae: 4.150004, mean_q: 8.315855, mean_eps: 0.367840\n",
            " 3775/5000: episode: 72, duration: 1.829s, episode steps: 200, steps per second: 109, episode reward: 200.000, mean reward:  1.000 [ 1.000,  1.000], mean action: 0.515 [0.000, 1.000],  loss: 0.225666, mae: 4.201389, mean_q: 8.401815, mean_eps: 0.338590\n",
            " 3906/5000: episode: 73, duration: 1.085s, episode steps: 131, steps per second: 121, episode reward: 131.000, mean reward:  1.000 [ 1.000,  1.000], mean action: 0.527 [0.000, 1.000],  loss: 0.160033, mae: 4.242873, mean_q: 8.486306, mean_eps: 0.308800\n",
            " 4106/5000: episode: 74, duration: 2.164s, episode steps: 200, steps per second:  92, episode reward: 200.000, mean reward:  1.000 [ 1.000,  1.000], mean action: 0.525 [0.000, 1.000],  loss: 0.211985, mae: 4.270013, mean_q: 8.538625, mean_eps: 0.279010\n",
            " 4265/5000: episode: 75, duration: 1.304s, episode steps: 159, steps per second: 122, episode reward: 159.000, mean reward:  1.000 [ 1.000,  1.000], mean action: 0.516 [0.000, 1.000],  loss: 0.195853, mae: 4.295668, mean_q: 8.604579, mean_eps: 0.246700\n",
            " 4465/5000: episode: 76, duration: 1.732s, episode steps: 200, steps per second: 115, episode reward: 200.000, mean reward:  1.000 [ 1.000,  1.000], mean action: 0.495 [0.000, 1.000],  loss: 0.230102, mae: 4.341782, mean_q: 8.691709, mean_eps: 0.214390\n",
            " 4660/5000: episode: 77, duration: 1.912s, episode steps: 195, steps per second: 102, episode reward: 195.000, mean reward:  1.000 [ 1.000,  1.000], mean action: 0.528 [0.000, 1.000],  loss: 0.222077, mae: 4.366438, mean_q: 8.732930, mean_eps: 0.178840\n",
            " 4860/5000: episode: 78, duration: 1.914s, episode steps: 200, steps per second: 104, episode reward: 200.000, mean reward:  1.000 [ 1.000,  1.000], mean action: 0.510 [0.000, 1.000],  loss: 0.267882, mae: 4.413622, mean_q: 8.808359, mean_eps: 0.143290\n",
            "done, took 52.588 seconds\n"
          ]
        },
        {
          "output_type": "display_data",
          "data": {
            "text/plain": [
              "<Figure size 432x288 with 1 Axes>"
            ],
            "image/png": "[encoded data removed]"
          },
          "metadata": {
            "needs_background": "light"
          }
        }
      ],
      "source": [
        "from numpy.random import gamma\n",
        "memory = SequentialMemory(limit=2500 ,window_length=1)\n",
        "\n",
        "LearnRate = 0.00015\n",
        "steps = 5000\n",
        "\n",
        "policy =  LinearAnnealedPolicy(inner_policy= EpsGreedyQPolicy(eps=.1), \n",
        "                               attr='eps',            \n",
        "                               value_max=1.,\n",
        "                               value_min=.1, \n",
        "                               value_test=.05,\n",
        "                               nb_steps=steps)\n",
        "\n",
        "# define the agent\n",
        "dqn = DQNAgent(model=model, \n",
        "               nb_actions=env.action_space.n,\n",
        "               memory=memory,\n",
        "               nb_steps_warmup=100,\n",
        "               target_model_update=LearnRate, \n",
        "               policy=policy , gamma=1,) \n",
        "\n",
        "dqn.compile(Adam(learning_rate = LearnRate), metrics=['mae'])\n",
        "\n",
        "history = dqn.fit(env, nb_steps=steps, visualize=False, verbose=2)\n",
        "\n",
        "\n",
        "# summarize the history for number  of episode steps\n",
        "plt.plot(history.history['nb_episode_steps'])\n",
        "plt.ylabel('nb_episode_steps')\n",
        "plt.xlabel('episodes')\n",
        "plt.show()\n",
        "\n"
      ]
    },
    {
      "cell_type": "code",
      "execution_count": 43,
      "metadata": {
        "colab": {
          "base_uri": "https://localhost:8080/"
        },
        "id": "Vfw_AHVIbed5",
        "outputId": "0a2595b1-d58e-4dc0-eea4-79b9b60c9473"
      },
      "outputs": [
        {
          "output_type": "stream",
          "name": "stdout",
          "text": [
            "Testing for 20 episodes ...\n",
            "Episode 1: reward: 200.000, steps: 200\n",
            "Episode 2: reward: 185.000, steps: 185\n",
            "Episode 3: reward: 194.000, steps: 194\n",
            "Episode 4: reward: 198.000, steps: 198\n",
            "Episode 5: reward: 200.000, steps: 200\n",
            "Episode 6: reward: 200.000, steps: 200\n",
            "Episode 7: reward: 200.000, steps: 200\n",
            "Episode 8: reward: 197.000, steps: 197\n",
            "Episode 9: reward: 200.000, steps: 200\n",
            "Episode 10: reward: 200.000, steps: 200\n",
            "Episode 11: reward: 200.000, steps: 200\n",
            "Episode 12: reward: 200.000, steps: 200\n",
            "Episode 13: reward: 200.000, steps: 200\n",
            "Episode 14: reward: 200.000, steps: 200\n",
            "Episode 15: reward: 200.000, steps: 200\n",
            "Episode 16: reward: 200.000, steps: 200\n",
            "Episode 17: reward: 200.000, steps: 200\n",
            "Episode 18: reward: 200.000, steps: 200\n",
            "Episode 19: reward: 192.000, steps: 192\n",
            "Episode 20: reward: 200.000, steps: 200\n"
          ]
        },
        {
          "output_type": "execute_result",
          "data": {
            "text/plain": [
              "<keras.callbacks.History at 0x7f3183eedfa0>"
            ]
          },
          "metadata": {},
          "execution_count": 43
        }
      ],
      "source": [
        "# Testing\n",
        "dqn.test(env, nb_episodes=20, visualize=False)"
      ]
    }
  ],
  "metadata": {
    "colab": {
      "provenance": [],
      "toc_visible": true,
      "include_colab_link": true
    },
    "kernelspec": {
      "display_name": "Python 3",
      "name": "python3"
    }
  },
  "nbformat": 4,
  "nbformat_minor": 0
}